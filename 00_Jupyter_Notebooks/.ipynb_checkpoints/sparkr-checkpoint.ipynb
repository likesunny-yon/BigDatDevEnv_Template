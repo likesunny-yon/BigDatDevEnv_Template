{
 "cells": [
  {
   "cell_type": "markdown",
   "metadata": {},
   "source": [
    "# **SparkR**: The Apache Spark R API"
   ]
  },
  {
   "cell_type": "markdown",
   "metadata": {},
   "source": [
    "## 1. Introduction\n",
    "\n",
    "This notebook shows how to connect Jupyter notebooks to a Spark cluster to process data using Spark R API.\n",
    "\n",
    "It works on this [Docker Cluster](https://github.com/datainsightat/bigdata_development_environment.git)"
   ]
  },
  {
   "cell_type": "markdown",
   "metadata": {},
   "source": [
    "## 2. The Spark Cluster"
   ]
  },
  {
   "cell_type": "markdown",
   "metadata": {},
   "source": [
    "### 2.1. Connection\n",
    "\n",
    "To connect to the Spark cluster, create a SparkSession object with the following params:\n",
    "\n",
    "+ **appName:** application name displayed at the [Spark Master Web UI](http://localhost:8080/);\n",
    "+ **master:** Spark Master URL, same used by Spark Workers;\n",
    "+ **spark.executor.memory:** must be less than or equals to docker compose SPARK_WORKER_MEMORY config."
   ]
  },
  {
   "cell_type": "code",
   "execution_count": 1,
   "metadata": {},
   "outputs": [
    {
     "name": "stderr",
     "output_type": "stream",
     "text": [
      "\n",
      "Attaching package: ‘SparkR’\n",
      "\n",
      "\n",
      "The following objects are masked from ‘package:stats’:\n",
      "\n",
      "    cov, filter, lag, na.omit, predict, sd, var, window\n",
      "\n",
      "\n",
      "The following objects are masked from ‘package:base’:\n",
      "\n",
      "    as.data.frame, colnames, colnames<-, drop, endsWith, intersect,\n",
      "    rank, rbind, sample, startsWith, subset, summary, transform, union\n",
      "\n",
      "\n",
      "Spark package found in SPARK_HOME: /opt/spark\n",
      "\n"
     ]
    },
    {
     "name": "stdout",
     "output_type": "stream",
     "text": [
      "Launching java with spark-submit command /opt/spark/bin/spark-submit   sparkr-shell /tmp/RtmpTC4hKS/backend_port38339d9c94a \n"
     ]
    },
    {
     "data": {
      "text/plain": [
       "Java ref type org.apache.spark.sql.SparkSession id 1 "
      ]
     },
     "metadata": {},
     "output_type": "display_data"
    }
   ],
   "source": [
    "library(SparkR);\n",
    "\n",
    "sparkR.session(appName=\"sparkr-notebook\", master=\"spark://spark:7077\", sparkConfig=list(spark.executor.memory=\"512m\"))"
   ]
  },
  {
   "cell_type": "markdown",
   "metadata": {},
   "source": [
    "More confs for SparkSession object in standalone mode can be added using the **sparkConfig** param. Checkout the API docs [here](https://spark.apache.org/docs/latest/api/R/sparkR.session.html)."
   ]
  },
  {
   "cell_type": "markdown",
   "metadata": {},
   "source": [
    "## 3. The Data"
   ]
  },
  {
   "cell_type": "markdown",
   "metadata": {},
   "source": [
    "### 3.1. Introduction\n",
    "\n",
    "We will be using Spark R API to read, process and write data. Checkout the API docs [here](https://spark.apache.org/docs/latest/api/R/index.html)."
   ]
  },
  {
   "cell_type": "markdown",
   "metadata": {},
   "source": [
    "### 3.2. Read\n",
    "\n",
    "Let's read some UK's macroeconomic data ([source](https://www.kaggle.com/bank-of-england/a-millennium-of-macroeconomic-data)) from the cluster's simulated **Hadoop distributed file system (HDFS)** into a Spark dataframe."
   ]
  },
  {
   "cell_type": "code",
   "execution_count": 4,
   "metadata": {},
   "outputs": [],
   "source": [
    "#data <- read.df(\"data/uk-macroeconomic-data.csv\", source=\"csv\", header=\"true\")\n",
    "data <- read.df(\"hdfs://hive:54310/examples/bank_prospects.csv\", source=\"csv\", header=\"true\")"
   ]
  },
  {
   "cell_type": "code",
   "execution_count": 9,
   "metadata": {},
   "outputs": [
    {
     "ename": "ERROR",
     "evalue": "Error in saveDF.df(data, \"hdfs://hive:54310/examples/bank_prospects_test4.csv\"): could not find function \"saveDF.df\"\n",
     "output_type": "error",
     "traceback": [
      "Error in saveDF.df(data, \"hdfs://hive:54310/examples/bank_prospects_test4.csv\"): could not find function \"saveDF.df\"\nTraceback:\n"
     ]
    }
   ],
   "source": [
    "write.df(data,\"hdfs://hive:54310/examples/bank_prospects_test4.csv\")"
   ]
  },
  {
   "cell_type": "markdown",
   "metadata": {},
   "source": [
    "Let's then display some dataframe metadata, such as the number of rows and cols and its schema (cols name and type)."
   ]
  },
  {
   "cell_type": "code",
   "execution_count": 5,
   "metadata": {},
   "outputs": [
    {
     "data": {
      "text/html": [
       "11"
      ],
      "text/latex": [
       "11"
      ],
      "text/markdown": [
       "11"
      ],
      "text/plain": [
       "[1] 11"
      ]
     },
     "metadata": {},
     "output_type": "display_data"
    }
   ],
   "source": [
    "count(data)"
   ]
  },
  {
   "cell_type": "code",
   "execution_count": 4,
   "metadata": {},
   "outputs": [
    {
     "data": {
      "text/html": [
       "5"
      ],
      "text/latex": [
       "5"
      ],
      "text/markdown": [
       "5"
      ],
      "text/plain": [
       "[1] 5"
      ]
     },
     "metadata": {},
     "output_type": "display_data"
    }
   ],
   "source": [
    "length(columns(data))"
   ]
  },
  {
   "cell_type": "code",
   "execution_count": 5,
   "metadata": {},
   "outputs": [
    {
     "name": "stdout",
     "output_type": "stream",
     "text": [
      "root\n",
      " |-- Age: string (nullable = true)\n",
      " |-- Salary: string (nullable = true)\n",
      " |-- Gender: string (nullable = true)\n",
      " |-- Country: string (nullable = true)\n",
      " |-- Purchased: string (nullable = true)\n"
     ]
    }
   ],
   "source": [
    "printSchema(data)"
   ]
  },
  {
   "cell_type": "markdown",
   "metadata": {},
   "source": [
    "### 3.3. Process"
   ]
  },
  {
   "cell_type": "markdown",
   "metadata": {},
   "source": [
    "In this example, we will get UK's population and unemployment rate thoughtout the years. Let's start by selecting the relevant columns."
   ]
  },
  {
   "cell_type": "code",
   "execution_count": 6,
   "metadata": {},
   "outputs": [],
   "source": [
    "unemployment <- select(data, \"Description\", \"Population (GB+NI)\", \"Unemployment rate\")"
   ]
  },
  {
   "cell_type": "code",
   "execution_count": 7,
   "metadata": {},
   "outputs": [
    {
     "data": {
      "text/html": [
       "<table>\n",
       "<caption>A data.frame: 10 × 3</caption>\n",
       "<thead>\n",
       "\t<tr><th></th><th scope=col>Description</th><th scope=col>Population (GB+NI)</th><th scope=col>Unemployment rate</th></tr>\n",
       "\t<tr><th></th><th scope=col>&lt;chr&gt;</th><th scope=col>&lt;chr&gt;</th><th scope=col>&lt;chr&gt;</th></tr>\n",
       "</thead>\n",
       "<tbody>\n",
       "\t<tr><th scope=row>1</th><td>Units</td><td>000s</td><td>% </td></tr>\n",
       "\t<tr><th scope=row>2</th><td>1209 </td><td>NA  </td><td>NA</td></tr>\n",
       "\t<tr><th scope=row>3</th><td>1210 </td><td>NA  </td><td>NA</td></tr>\n",
       "\t<tr><th scope=row>4</th><td>1211 </td><td>NA  </td><td>NA</td></tr>\n",
       "\t<tr><th scope=row>5</th><td>1212 </td><td>NA  </td><td>NA</td></tr>\n",
       "\t<tr><th scope=row>6</th><td>1213 </td><td>NA  </td><td>NA</td></tr>\n",
       "\t<tr><th scope=row>7</th><td>1214 </td><td>NA  </td><td>NA</td></tr>\n",
       "\t<tr><th scope=row>8</th><td>1215 </td><td>NA  </td><td>NA</td></tr>\n",
       "\t<tr><th scope=row>9</th><td>1216 </td><td>NA  </td><td>NA</td></tr>\n",
       "\t<tr><th scope=row>10</th><td>1217 </td><td>NA  </td><td>NA</td></tr>\n",
       "</tbody>\n",
       "</table>\n"
      ],
      "text/latex": [
       "A data.frame: 10 × 3\n",
       "\\begin{tabular}{r|lll}\n",
       "  & Description & Population (GB+NI) & Unemployment rate\\\\\n",
       "  & <chr> & <chr> & <chr>\\\\\n",
       "\\hline\n",
       "\t1 & Units & 000s & \\% \\\\\n",
       "\t2 & 1209  & NA   & NA\\\\\n",
       "\t3 & 1210  & NA   & NA\\\\\n",
       "\t4 & 1211  & NA   & NA\\\\\n",
       "\t5 & 1212  & NA   & NA\\\\\n",
       "\t6 & 1213  & NA   & NA\\\\\n",
       "\t7 & 1214  & NA   & NA\\\\\n",
       "\t8 & 1215  & NA   & NA\\\\\n",
       "\t9 & 1216  & NA   & NA\\\\\n",
       "\t10 & 1217  & NA   & NA\\\\\n",
       "\\end{tabular}\n"
      ],
      "text/markdown": [
       "\n",
       "A data.frame: 10 × 3\n",
       "\n",
       "| <!--/--> | Description &lt;chr&gt; | Population (GB+NI) &lt;chr&gt; | Unemployment rate &lt;chr&gt; |\n",
       "|---|---|---|---|\n",
       "| 1 | Units | 000s | %  |\n",
       "| 2 | 1209  | NA   | NA |\n",
       "| 3 | 1210  | NA   | NA |\n",
       "| 4 | 1211  | NA   | NA |\n",
       "| 5 | 1212  | NA   | NA |\n",
       "| 6 | 1213  | NA   | NA |\n",
       "| 7 | 1214  | NA   | NA |\n",
       "| 8 | 1215  | NA   | NA |\n",
       "| 9 | 1216  | NA   | NA |\n",
       "| 10 | 1217  | NA   | NA |\n",
       "\n"
      ],
      "text/plain": [
       "   Description Population (GB+NI) Unemployment rate\n",
       "1  Units       000s               %                \n",
       "2  1209        NA                 NA               \n",
       "3  1210        NA                 NA               \n",
       "4  1211        NA                 NA               \n",
       "5  1212        NA                 NA               \n",
       "6  1213        NA                 NA               \n",
       "7  1214        NA                 NA               \n",
       "8  1215        NA                 NA               \n",
       "9  1216        NA                 NA               \n",
       "10 1217        NA                 NA               "
      ]
     },
     "metadata": {},
     "output_type": "display_data"
    }
   ],
   "source": [
    "head(unemployment, n=10)"
   ]
  },
  {
   "cell_type": "markdown",
   "metadata": {},
   "source": [
    "We successfully selected the desired columns but two problems were found:\n",
    "+ The first line contains no data but the unit of measurement of each column;\n",
    "+ There are many years with missing population and unemployment data."
   ]
  },
  {
   "cell_type": "markdown",
   "metadata": {},
   "source": [
    "Let's then remove the first line."
   ]
  },
  {
   "cell_type": "code",
   "execution_count": 8,
   "metadata": {},
   "outputs": [],
   "source": [
    "cols_description <- filter(unemployment, unemployment$Description == \"Units\")"
   ]
  },
  {
   "cell_type": "code",
   "execution_count": 9,
   "metadata": {},
   "outputs": [
    {
     "data": {
      "text/html": [
       "<table>\n",
       "<caption>A data.frame: 1 × 3</caption>\n",
       "<thead>\n",
       "\t<tr><th></th><th scope=col>Description</th><th scope=col>Population (GB+NI)</th><th scope=col>Unemployment rate</th></tr>\n",
       "\t<tr><th></th><th scope=col>&lt;chr&gt;</th><th scope=col>&lt;chr&gt;</th><th scope=col>&lt;chr&gt;</th></tr>\n",
       "</thead>\n",
       "<tbody>\n",
       "\t<tr><th scope=row>1</th><td>Units</td><td>000s</td><td>%</td></tr>\n",
       "</tbody>\n",
       "</table>\n"
      ],
      "text/latex": [
       "A data.frame: 1 × 3\n",
       "\\begin{tabular}{r|lll}\n",
       "  & Description & Population (GB+NI) & Unemployment rate\\\\\n",
       "  & <chr> & <chr> & <chr>\\\\\n",
       "\\hline\n",
       "\t1 & Units & 000s & \\%\\\\\n",
       "\\end{tabular}\n"
      ],
      "text/markdown": [
       "\n",
       "A data.frame: 1 × 3\n",
       "\n",
       "| <!--/--> | Description &lt;chr&gt; | Population (GB+NI) &lt;chr&gt; | Unemployment rate &lt;chr&gt; |\n",
       "|---|---|---|---|\n",
       "| 1 | Units | 000s | % |\n",
       "\n"
      ],
      "text/plain": [
       "  Description Population (GB+NI) Unemployment rate\n",
       "1 Units       000s               %                "
      ]
     },
     "metadata": {},
     "output_type": "display_data"
    }
   ],
   "source": [
    "head(cols_description)"
   ]
  },
  {
   "cell_type": "code",
   "execution_count": 10,
   "metadata": {},
   "outputs": [],
   "source": [
    "unemployment <- join(unemployment, cols_description, joinExpr = unemployment$Description == cols_description$Description, joinType=\"left_anti\")"
   ]
  },
  {
   "cell_type": "code",
   "execution_count": 11,
   "metadata": {},
   "outputs": [
    {
     "data": {
      "text/html": [
       "<table>\n",
       "<caption>A data.frame: 10 × 3</caption>\n",
       "<thead>\n",
       "\t<tr><th></th><th scope=col>Description</th><th scope=col>Population (GB+NI)</th><th scope=col>Unemployment rate</th></tr>\n",
       "\t<tr><th></th><th scope=col>&lt;chr&gt;</th><th scope=col>&lt;chr&gt;</th><th scope=col>&lt;chr&gt;</th></tr>\n",
       "</thead>\n",
       "<tbody>\n",
       "\t<tr><th scope=row>1</th><td>1209</td><td>NA</td><td>NA</td></tr>\n",
       "\t<tr><th scope=row>2</th><td>1210</td><td>NA</td><td>NA</td></tr>\n",
       "\t<tr><th scope=row>3</th><td>1211</td><td>NA</td><td>NA</td></tr>\n",
       "\t<tr><th scope=row>4</th><td>1212</td><td>NA</td><td>NA</td></tr>\n",
       "\t<tr><th scope=row>5</th><td>1213</td><td>NA</td><td>NA</td></tr>\n",
       "\t<tr><th scope=row>6</th><td>1214</td><td>NA</td><td>NA</td></tr>\n",
       "\t<tr><th scope=row>7</th><td>1215</td><td>NA</td><td>NA</td></tr>\n",
       "\t<tr><th scope=row>8</th><td>1216</td><td>NA</td><td>NA</td></tr>\n",
       "\t<tr><th scope=row>9</th><td>1217</td><td>NA</td><td>NA</td></tr>\n",
       "\t<tr><th scope=row>10</th><td>1218</td><td>NA</td><td>NA</td></tr>\n",
       "</tbody>\n",
       "</table>\n"
      ],
      "text/latex": [
       "A data.frame: 10 × 3\n",
       "\\begin{tabular}{r|lll}\n",
       "  & Description & Population (GB+NI) & Unemployment rate\\\\\n",
       "  & <chr> & <chr> & <chr>\\\\\n",
       "\\hline\n",
       "\t1 & 1209 & NA & NA\\\\\n",
       "\t2 & 1210 & NA & NA\\\\\n",
       "\t3 & 1211 & NA & NA\\\\\n",
       "\t4 & 1212 & NA & NA\\\\\n",
       "\t5 & 1213 & NA & NA\\\\\n",
       "\t6 & 1214 & NA & NA\\\\\n",
       "\t7 & 1215 & NA & NA\\\\\n",
       "\t8 & 1216 & NA & NA\\\\\n",
       "\t9 & 1217 & NA & NA\\\\\n",
       "\t10 & 1218 & NA & NA\\\\\n",
       "\\end{tabular}\n"
      ],
      "text/markdown": [
       "\n",
       "A data.frame: 10 × 3\n",
       "\n",
       "| <!--/--> | Description &lt;chr&gt; | Population (GB+NI) &lt;chr&gt; | Unemployment rate &lt;chr&gt; |\n",
       "|---|---|---|---|\n",
       "| 1 | 1209 | NA | NA |\n",
       "| 2 | 1210 | NA | NA |\n",
       "| 3 | 1211 | NA | NA |\n",
       "| 4 | 1212 | NA | NA |\n",
       "| 5 | 1213 | NA | NA |\n",
       "| 6 | 1214 | NA | NA |\n",
       "| 7 | 1215 | NA | NA |\n",
       "| 8 | 1216 | NA | NA |\n",
       "| 9 | 1217 | NA | NA |\n",
       "| 10 | 1218 | NA | NA |\n",
       "\n"
      ],
      "text/plain": [
       "   Description Population (GB+NI) Unemployment rate\n",
       "1  1209        NA                 NA               \n",
       "2  1210        NA                 NA               \n",
       "3  1211        NA                 NA               \n",
       "4  1212        NA                 NA               \n",
       "5  1213        NA                 NA               \n",
       "6  1214        NA                 NA               \n",
       "7  1215        NA                 NA               \n",
       "8  1216        NA                 NA               \n",
       "9  1217        NA                 NA               \n",
       "10 1218        NA                 NA               "
      ]
     },
     "metadata": {},
     "output_type": "display_data"
    }
   ],
   "source": [
    "head(unemployment, n=10)"
   ]
  },
  {
   "cell_type": "markdown",
   "metadata": {},
   "source": [
    "Nice! Now, let's drop the dataframe rows with missing data and refactor its columns names."
   ]
  },
  {
   "cell_type": "code",
   "execution_count": 12,
   "metadata": {},
   "outputs": [],
   "source": [
    "unemployment <- dropna(unemployment)"
   ]
  },
  {
   "cell_type": "code",
   "execution_count": 13,
   "metadata": {},
   "outputs": [],
   "source": [
    "unemployment <- withColumnRenamed(unemployment, \"Description\", \"year\")\n",
    "unemployment <- withColumnRenamed(unemployment, \"Population (GB+NI)\", \"population\")\n",
    "unemployment <- withColumnRenamed(unemployment, \"Unemployment rate\", \"unemployment_rate\")"
   ]
  },
  {
   "cell_type": "code",
   "execution_count": 14,
   "metadata": {},
   "outputs": [
    {
     "data": {
      "text/html": [
       "<table>\n",
       "<caption>A data.frame: 10 × 3</caption>\n",
       "<thead>\n",
       "\t<tr><th></th><th scope=col>year</th><th scope=col>population</th><th scope=col>unemployment_rate</th></tr>\n",
       "\t<tr><th></th><th scope=col>&lt;chr&gt;</th><th scope=col>&lt;chr&gt;</th><th scope=col>&lt;chr&gt;</th></tr>\n",
       "</thead>\n",
       "<tbody>\n",
       "\t<tr><th scope=row>1</th><td>1855</td><td>23241</td><td>3.73</td></tr>\n",
       "\t<tr><th scope=row>2</th><td>1856</td><td>23466</td><td>3.52</td></tr>\n",
       "\t<tr><th scope=row>3</th><td>1857</td><td>23689</td><td>3.95</td></tr>\n",
       "\t<tr><th scope=row>4</th><td>1858</td><td>23914</td><td>5.23</td></tr>\n",
       "\t<tr><th scope=row>5</th><td>1859</td><td>24138</td><td>3.27</td></tr>\n",
       "\t<tr><th scope=row>6</th><td>1860</td><td>24360</td><td>2.94</td></tr>\n",
       "\t<tr><th scope=row>7</th><td>1861</td><td>24585</td><td>3.72</td></tr>\n",
       "\t<tr><th scope=row>8</th><td>1862</td><td>24862</td><td>4.68</td></tr>\n",
       "\t<tr><th scope=row>9</th><td>1863</td><td>25142</td><td>4.15</td></tr>\n",
       "\t<tr><th scope=row>10</th><td>1864</td><td>25425</td><td>2.99</td></tr>\n",
       "</tbody>\n",
       "</table>\n"
      ],
      "text/latex": [
       "A data.frame: 10 × 3\n",
       "\\begin{tabular}{r|lll}\n",
       "  & year & population & unemployment\\_rate\\\\\n",
       "  & <chr> & <chr> & <chr>\\\\\n",
       "\\hline\n",
       "\t1 & 1855 & 23241 & 3.73\\\\\n",
       "\t2 & 1856 & 23466 & 3.52\\\\\n",
       "\t3 & 1857 & 23689 & 3.95\\\\\n",
       "\t4 & 1858 & 23914 & 5.23\\\\\n",
       "\t5 & 1859 & 24138 & 3.27\\\\\n",
       "\t6 & 1860 & 24360 & 2.94\\\\\n",
       "\t7 & 1861 & 24585 & 3.72\\\\\n",
       "\t8 & 1862 & 24862 & 4.68\\\\\n",
       "\t9 & 1863 & 25142 & 4.15\\\\\n",
       "\t10 & 1864 & 25425 & 2.99\\\\\n",
       "\\end{tabular}\n"
      ],
      "text/markdown": [
       "\n",
       "A data.frame: 10 × 3\n",
       "\n",
       "| <!--/--> | year &lt;chr&gt; | population &lt;chr&gt; | unemployment_rate &lt;chr&gt; |\n",
       "|---|---|---|---|\n",
       "| 1 | 1855 | 23241 | 3.73 |\n",
       "| 2 | 1856 | 23466 | 3.52 |\n",
       "| 3 | 1857 | 23689 | 3.95 |\n",
       "| 4 | 1858 | 23914 | 5.23 |\n",
       "| 5 | 1859 | 24138 | 3.27 |\n",
       "| 6 | 1860 | 24360 | 2.94 |\n",
       "| 7 | 1861 | 24585 | 3.72 |\n",
       "| 8 | 1862 | 24862 | 4.68 |\n",
       "| 9 | 1863 | 25142 | 4.15 |\n",
       "| 10 | 1864 | 25425 | 2.99 |\n",
       "\n"
      ],
      "text/plain": [
       "   year population unemployment_rate\n",
       "1  1855 23241      3.73             \n",
       "2  1856 23466      3.52             \n",
       "3  1857 23689      3.95             \n",
       "4  1858 23914      5.23             \n",
       "5  1859 24138      3.27             \n",
       "6  1860 24360      2.94             \n",
       "7  1861 24585      3.72             \n",
       "8  1862 24862      4.68             \n",
       "9  1863 25142      4.15             \n",
       "10 1864 25425      2.99             "
      ]
     },
     "metadata": {},
     "output_type": "display_data"
    }
   ],
   "source": [
    "head(unemployment, n=10)"
   ]
  },
  {
   "cell_type": "markdown",
   "metadata": {},
   "source": [
    "### 3.4. Write"
   ]
  },
  {
   "cell_type": "markdown",
   "metadata": {},
   "source": [
    "Lastly, we persist the unemployment data into the cluster's simulated **HDFS**."
   ]
  },
  {
   "cell_type": "code",
   "execution_count": 15,
   "metadata": {},
   "outputs": [],
   "source": [
    "unemployment <- repartition(unemployment, numPartitions=1)\n",
    "write.df(unemployment, path=\"data/uk-macroeconomic-unemployment-data.csv\", source=\"csv\", sep=\",\", header=\"true\", mode=\"overwrite\")"
   ]
  }
 ],
 "metadata": {
  "kernelspec": {
   "display_name": "R 3.5",
   "language": "R",
   "name": "ir"
  },
  "language_info": {
   "codemirror_mode": "r",
   "file_extension": ".r",
   "mimetype": "text/x-r-source",
   "name": "R",
   "pygments_lexer": "r",
   "version": "3.6.3"
  }
 },
 "nbformat": 4,
 "nbformat_minor": 4
}
